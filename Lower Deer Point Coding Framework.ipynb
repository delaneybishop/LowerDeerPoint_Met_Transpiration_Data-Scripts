{
 "cells": [
  {
   "cell_type": "code",
   "execution_count": 1,
   "id": "5456e42a",
   "metadata": {},
   "outputs": [],
   "source": [
    "import numpy as np\n",
    "import pandas as pd\n",
    "import matplotlib.pyplot as plt"
   ]
  },
  {
   "cell_type": "code",
   "execution_count": 2,
   "id": "6c458272",
   "metadata": {},
   "outputs": [],
   "source": [
    "df = pd.read_csv('LDP_4-CompRadHrlySummary_2015.csv', parse_dates=['DateTime'])\n",
    "df1 = pd.read_csv('LDP_4CompRadHrlySummary_2019.csv', parse_dates=['DateTime'])\n",
    "df2 = pd.read_csv('LDP_HrlySummary_2015.csv', parse_dates=['DateTime'])\n",
    "df3 = pd.read_csv('LDP_HrlySummary_2019.csv', parse_dates=['DateTime'])\n",
    "df4 = pd.read_csv('LDP_SoilHrlySummary_2019.csv', parse_dates=['DateTime'])"
   ]
  },
  {
   "cell_type": "code",
   "execution_count": 3,
   "id": "0a1b080d",
   "metadata": {},
   "outputs": [
    {
     "data": {
      "text/plain": [
       "array([238.49, 235.93, 240.58, ..., 248.98, 249.91, 252.13])"
      ]
     },
     "execution_count": 3,
     "metadata": {},
     "output_type": "execute_result"
    }
   ],
   "source": [
    "np.array(df['SWin-W/m2']).astype(\"float64\")\n",
    "np.array(df['SWout-W/m2']).astype(\"float64\")\n",
    "np.array(df['LWin-W/m2']).astype(\"float64\")\n",
    "np.array(df['LWout-W/m2']).astype(\"float64\")"
   ]
  },
  {
   "cell_type": "code",
   "execution_count": 4,
   "id": "0142361d",
   "metadata": {},
   "outputs": [
    {
     "data": {
      "text/plain": [
       "array([229.8, 227.2, 223.7, ..., 307.9, 308.3, 310.2])"
      ]
     },
     "execution_count": 4,
     "metadata": {},
     "output_type": "execute_result"
    }
   ],
   "source": [
    "np.array(df1['SWin-W/m2']).astype(\"float64\")\n",
    "np.array(df1['SWout-W/m2']).astype(\"float64\")\n",
    "np.array(df1['LWin-W/m2']).astype(\"float64\")\n",
    "np.array(df1['LWout-W/m2']).astype(\"float64\")"
   ]
  },
  {
   "cell_type": "code",
   "execution_count": 5,
   "id": "8b401203",
   "metadata": {},
   "outputs": [
    {
     "data": {
      "text/plain": [
       "array([0.55, 0.68, 0.65, ..., 2.71, 3.25, 3.51])"
      ]
     },
     "execution_count": 5,
     "metadata": {},
     "output_type": "execute_result"
    }
   ],
   "source": [
    "np.array(df2['AirTemperature-C']).astype(\"float64\")\n",
    "np.array(df2['NetRadiation-Watts/m2']).astype(\"float64\")\n",
    "np.array(df2['RelativeHumidity-%']).astype(\"float64\")\n",
    "np.array(df2['WindSpeed-m/s']).astype(\"float64\")"
   ]
  },
  {
   "cell_type": "code",
   "execution_count": 6,
   "id": "4f9ad008",
   "metadata": {},
   "outputs": [
    {
     "data": {
      "text/plain": [
       "array([-6.999e+03, -6.999e+03, -6.999e+03, ...,  1.020e+00,  1.110e+00,\n",
       "        1.470e+00])"
      ]
     },
     "execution_count": 6,
     "metadata": {},
     "output_type": "execute_result"
    }
   ],
   "source": [
    "np.array(df3['AirTemperature_C']).astype(\"float64\")\n",
    "np.array(df3['NetRadiation_W/m2']).astype(\"float64\")\n",
    "np.array(df3['RelativeHumidity_percent']).astype(\"float64\")\n",
    "np.array(df3['WindSpeed_m/s']).astype(\"float64\")"
   ]
  },
  {
   "cell_type": "code",
   "execution_count": 7,
   "id": "f9860aae",
   "metadata": {},
   "outputs": [
    {
     "data": {
      "text/plain": [
       "array([0.141, 0.141, 0.141, ..., 0.132, 0.132, 0.132])"
      ]
     },
     "execution_count": 7,
     "metadata": {},
     "output_type": "execute_result"
    }
   ],
   "source": [
    "np.array(df4['SoilMoisturePit1-vol']).astype(\"float64\")\n",
    "np.array(df4['SoilMoisturePit2-vol']).astype(\"float64\")"
   ]
  },
  {
   "cell_type": "code",
   "execution_count": 8,
   "id": "acb7684a",
   "metadata": {},
   "outputs": [],
   "source": [
    "filtered_df = df.loc[(df['DateTime'] >= '2015-05-01 00:00:00')\n",
    "                     & (df['DateTime'] < '2015-05-01 23:00:00')]"
   ]
  },
  {
   "cell_type": "code",
   "execution_count": 9,
   "id": "3c353fe7",
   "metadata": {},
   "outputs": [],
   "source": [
    "filtered_df1 = df.loc[(df1['DateTime'] >= '2019-05-01 00:00:00')\n",
    "                     & (df1['DateTime'] < '2019-05-01 23:00:00')]"
   ]
  },
  {
   "cell_type": "code",
   "execution_count": 10,
   "id": "23f52fe8",
   "metadata": {},
   "outputs": [],
   "source": [
    "filtered_df2 = df.loc[(df2['DateTime'] >= '2015-05-01 00:00:00')\n",
    "                     & (df2['DateTime'] < '2015-05-01 23:00:00')]"
   ]
  },
  {
   "cell_type": "code",
   "execution_count": 11,
   "id": "bcaa27d3",
   "metadata": {},
   "outputs": [],
   "source": [
    "filtered_df3 = df.loc[(df3['DateTime'] >= '2019-05-01 0:00:00')\n",
    "                     & (df3['DateTime'] < '2019-05-01 23:00:00')] "
   ]
  },
  {
   "cell_type": "code",
   "execution_count": 12,
   "id": "9f1716f2",
   "metadata": {},
   "outputs": [],
   "source": [
    "filtered_df4 = df.loc[(df4['DateTime'] >= '2019-05-01 0:00:00')\n",
    "                     & (df4['DateTime'] < '2019-05-01 23:00:00')]"
   ]
  },
  {
   "cell_type": "code",
   "execution_count": 13,
   "id": "727bd747",
   "metadata": {},
   "outputs": [],
   "source": [
    "shortwave_in_2015 = filtered_df['SWin-W/m2']\n",
    "shortwave_out_2015 = filtered_df['SWout-W/m2']\n",
    "shortwave_2015 = shortwave_in_2015-shortwave_out_2015"
   ]
  },
  {
   "cell_type": "code",
   "execution_count": 14,
   "id": "60572903",
   "metadata": {},
   "outputs": [],
   "source": [
    "shortwave_in_2019 = filtered_df1['SWin-W/m2']\n",
    "shortwave_out_2019 = filtered_df1['SWout-W/m2']\n",
    "shortwave_2019 = shortwave_in_2019-shortwave_out_2019"
   ]
  },
  {
   "cell_type": "code",
   "execution_count": 15,
   "id": "1c2c5c67",
   "metadata": {},
   "outputs": [],
   "source": [
    "longwave_in_2015 = filtered_df['LWin-W/m2']\n",
    "longwave_out_2015 = filtered_df['LWout-W/m2']\n",
    "longwave_2015 = longwave_in_2015-longwave_out_2015 "
   ]
  },
  {
   "cell_type": "code",
   "execution_count": 16,
   "id": "d8d55bf7",
   "metadata": {},
   "outputs": [],
   "source": [
    "longwave_in_2019 = filtered_df1['LWin-W/m2']\n",
    "longwave_out_2019 = filtered_df1['LWout-W/m2']\n",
    "longwave_2019 = longwave_in_2019-longwave_in_2019"
   ]
  },
  {
   "cell_type": "code",
   "execution_count": 17,
   "id": "9a8b2826",
   "metadata": {},
   "outputs": [],
   "source": [
    "AE_2015 = shortwave_2015-longwave_2015\n",
    "AE1_2015 = shortwave_2015+longwave_2015"
   ]
  },
  {
   "cell_type": "code",
   "execution_count": 18,
   "id": "a589d0fd",
   "metadata": {},
   "outputs": [],
   "source": [
    "AE_2019 = shortwave_2019-longwave_2019\n",
    "AE1_2019 = shortwave_2019+longwave_2019"
   ]
  },
  {
   "cell_type": "code",
   "execution_count": 19,
   "id": "bdd35ad2",
   "metadata": {},
   "outputs": [
    {
     "ename": "KeyError",
     "evalue": "'AirTemperature-C'",
     "output_type": "error",
     "traceback": [
      "\u001b[1;31m---------------------------------------------------------------------------\u001b[0m",
      "\u001b[1;31mKeyError\u001b[0m                                  Traceback (most recent call last)",
      "File \u001b[1;32m~\\anaconda3\\lib\\site-packages\\pandas\\core\\indexes\\base.py:3621\u001b[0m, in \u001b[0;36mIndex.get_loc\u001b[1;34m(self, key, method, tolerance)\u001b[0m\n\u001b[0;32m   3620\u001b[0m \u001b[38;5;28;01mtry\u001b[39;00m:\n\u001b[1;32m-> 3621\u001b[0m     \u001b[38;5;28;01mreturn\u001b[39;00m \u001b[38;5;28;43mself\u001b[39;49m\u001b[38;5;241;43m.\u001b[39;49m\u001b[43m_engine\u001b[49m\u001b[38;5;241;43m.\u001b[39;49m\u001b[43mget_loc\u001b[49m\u001b[43m(\u001b[49m\u001b[43mcasted_key\u001b[49m\u001b[43m)\u001b[49m\n\u001b[0;32m   3622\u001b[0m \u001b[38;5;28;01mexcept\u001b[39;00m \u001b[38;5;167;01mKeyError\u001b[39;00m \u001b[38;5;28;01mas\u001b[39;00m err:\n",
      "File \u001b[1;32m~\\anaconda3\\lib\\site-packages\\pandas\\_libs\\index.pyx:136\u001b[0m, in \u001b[0;36mpandas._libs.index.IndexEngine.get_loc\u001b[1;34m()\u001b[0m\n",
      "File \u001b[1;32m~\\anaconda3\\lib\\site-packages\\pandas\\_libs\\index.pyx:163\u001b[0m, in \u001b[0;36mpandas._libs.index.IndexEngine.get_loc\u001b[1;34m()\u001b[0m\n",
      "File \u001b[1;32mpandas\\_libs\\hashtable_class_helper.pxi:5198\u001b[0m, in \u001b[0;36mpandas._libs.hashtable.PyObjectHashTable.get_item\u001b[1;34m()\u001b[0m\n",
      "File \u001b[1;32mpandas\\_libs\\hashtable_class_helper.pxi:5206\u001b[0m, in \u001b[0;36mpandas._libs.hashtable.PyObjectHashTable.get_item\u001b[1;34m()\u001b[0m\n",
      "\u001b[1;31mKeyError\u001b[0m: 'AirTemperature-C'",
      "\nThe above exception was the direct cause of the following exception:\n",
      "\u001b[1;31mKeyError\u001b[0m                                  Traceback (most recent call last)",
      "Input \u001b[1;32mIn [19]\u001b[0m, in \u001b[0;36m<cell line: 1>\u001b[1;34m()\u001b[0m\n\u001b[1;32m----> 1\u001b[0m Air_Temp_C_2015 \u001b[38;5;241m=\u001b[39m \u001b[43mfiltered_df2\u001b[49m\u001b[43m[\u001b[49m\u001b[38;5;124;43m'\u001b[39;49m\u001b[38;5;124;43mAirTemperature-C\u001b[39;49m\u001b[38;5;124;43m'\u001b[39;49m\u001b[43m]\u001b[49m\n\u001b[0;32m      2\u001b[0m Net_Rad_2015 \u001b[38;5;241m=\u001b[39m filtered_df2[\u001b[38;5;124m'\u001b[39m\u001b[38;5;124mNetRadiation-Watts/m2\u001b[39m\u001b[38;5;124m'\u001b[39m]\n\u001b[0;32m      3\u001b[0m Relative_Humid_2015 \u001b[38;5;241m=\u001b[39m filtered_df2[\u001b[38;5;124m'\u001b[39m\u001b[38;5;124mRelativeHumidity-\u001b[39m\u001b[38;5;124m%\u001b[39m\u001b[38;5;124m'\u001b[39m]\n",
      "File \u001b[1;32m~\\anaconda3\\lib\\site-packages\\pandas\\core\\frame.py:3505\u001b[0m, in \u001b[0;36mDataFrame.__getitem__\u001b[1;34m(self, key)\u001b[0m\n\u001b[0;32m   3503\u001b[0m \u001b[38;5;28;01mif\u001b[39;00m \u001b[38;5;28mself\u001b[39m\u001b[38;5;241m.\u001b[39mcolumns\u001b[38;5;241m.\u001b[39mnlevels \u001b[38;5;241m>\u001b[39m \u001b[38;5;241m1\u001b[39m:\n\u001b[0;32m   3504\u001b[0m     \u001b[38;5;28;01mreturn\u001b[39;00m \u001b[38;5;28mself\u001b[39m\u001b[38;5;241m.\u001b[39m_getitem_multilevel(key)\n\u001b[1;32m-> 3505\u001b[0m indexer \u001b[38;5;241m=\u001b[39m \u001b[38;5;28;43mself\u001b[39;49m\u001b[38;5;241;43m.\u001b[39;49m\u001b[43mcolumns\u001b[49m\u001b[38;5;241;43m.\u001b[39;49m\u001b[43mget_loc\u001b[49m\u001b[43m(\u001b[49m\u001b[43mkey\u001b[49m\u001b[43m)\u001b[49m\n\u001b[0;32m   3506\u001b[0m \u001b[38;5;28;01mif\u001b[39;00m is_integer(indexer):\n\u001b[0;32m   3507\u001b[0m     indexer \u001b[38;5;241m=\u001b[39m [indexer]\n",
      "File \u001b[1;32m~\\anaconda3\\lib\\site-packages\\pandas\\core\\indexes\\base.py:3623\u001b[0m, in \u001b[0;36mIndex.get_loc\u001b[1;34m(self, key, method, tolerance)\u001b[0m\n\u001b[0;32m   3621\u001b[0m     \u001b[38;5;28;01mreturn\u001b[39;00m \u001b[38;5;28mself\u001b[39m\u001b[38;5;241m.\u001b[39m_engine\u001b[38;5;241m.\u001b[39mget_loc(casted_key)\n\u001b[0;32m   3622\u001b[0m \u001b[38;5;28;01mexcept\u001b[39;00m \u001b[38;5;167;01mKeyError\u001b[39;00m \u001b[38;5;28;01mas\u001b[39;00m err:\n\u001b[1;32m-> 3623\u001b[0m     \u001b[38;5;28;01mraise\u001b[39;00m \u001b[38;5;167;01mKeyError\u001b[39;00m(key) \u001b[38;5;28;01mfrom\u001b[39;00m \u001b[38;5;21;01merr\u001b[39;00m\n\u001b[0;32m   3624\u001b[0m \u001b[38;5;28;01mexcept\u001b[39;00m \u001b[38;5;167;01mTypeError\u001b[39;00m:\n\u001b[0;32m   3625\u001b[0m     \u001b[38;5;66;03m# If we have a listlike key, _check_indexing_error will raise\u001b[39;00m\n\u001b[0;32m   3626\u001b[0m     \u001b[38;5;66;03m#  InvalidIndexError. Otherwise we fall through and re-raise\u001b[39;00m\n\u001b[0;32m   3627\u001b[0m     \u001b[38;5;66;03m#  the TypeError.\u001b[39;00m\n\u001b[0;32m   3628\u001b[0m     \u001b[38;5;28mself\u001b[39m\u001b[38;5;241m.\u001b[39m_check_indexing_error(key)\n",
      "\u001b[1;31mKeyError\u001b[0m: 'AirTemperature-C'"
     ]
    }
   ],
   "source": [
    "Air_Temp_C_2015 = filtered_df2['AirTemperature-C']\n",
    "Net_Rad_2015 = filtered_df2['NetRadiation-Watts/m2']\n",
    "Relative_Humid_2015 = filtered_df2['RelativeHumidity-%']\n",
    "Wind_Speed_2015 = filtered_df2['WindSpeed-m/s']"
   ]
  },
  {
   "cell_type": "code",
   "execution_count": null,
   "id": "84e65b16",
   "metadata": {},
   "outputs": [],
   "source": [
    "Air_Temp_C_2019 = filtered_df3['AirTemperature_C']\n",
    "Net_Rad_2019 = filtered_df3['NetRadiation_W/m2']\n",
    "Relative_Humid_2019 = filtered_df3['RelativeHumidity_percent']\n",
    "Wind_Speed_2019 = filtered_df3['WindSpeed_m/s']"
   ]
  },
  {
   "cell_type": "code",
   "execution_count": null,
   "id": "5864dd21",
   "metadata": {},
   "outputs": [],
   "source": [
    "Soil_Moisture_1 = filtered_df4['SoilMoisturePit1-vol']\n",
    "Soil_Moisture_2 = filtered_df4['SoilMoisturePit2-vol']"
   ]
  },
  {
   "cell_type": "code",
   "execution_count": null,
   "id": "c10d92e9",
   "metadata": {},
   "outputs": [],
   "source": [
    "y = AE_2015  \n",
    "x = filtered_df['DateTime'] \n",
    "plt.style.use('ggplot')\n",
    "plt.title('AE over time', color='black')\n",
    "plt.xlabel('Year', color='black')\n",
    "plt.ylabel('Availaible Energy', color='black')  \n",
    "plt.plot(x, y, ':')\n",
    "plt.show()  "
   ]
  },
  {
   "cell_type": "code",
   "execution_count": null,
   "id": "95f811ce",
   "metadata": {},
   "outputs": [],
   "source": [
    "y = AE1_2015  \n",
    "x = filtered_df['DateTime'] \n",
    "plt.style.use('ggplot')\n",
    "plt.title('AE over time', color='black')\n",
    "plt.xlabel('Year', color='black')\n",
    "plt.ylabel('Availaible Energy', color='black')  \n",
    "plt.plot(x, y, ':')  \n",
    "plt.show() "
   ]
  },
  {
   "cell_type": "code",
   "execution_count": null,
   "id": "1ff849fb",
   "metadata": {},
   "outputs": [],
   "source": [
    "y = AE1_2019 \n",
    "x = filtered_df1['DateTime'] \n",
    "plt.style.use('ggplot')\n",
    "plt.title('AE over time', color='black')\n",
    "plt.xlabel('Year', color='black')\n",
    "plt.ylabel('Availaible Energy', color='black')  \n",
    "plt.plot(x, y)  \n",
    "plt.show() "
   ]
  },
  {
   "cell_type": "code",
   "execution_count": null,
   "id": "fe0dbccd",
   "metadata": {},
   "outputs": [],
   "source": [
    "y = Air_Temp_C_2015 \n",
    "x = filtered_df2['DateTime'] \n",
    "plt.style.use('ggplot')\n",
    "plt.title('Air Temperature over time', color='black')\n",
    "plt.xlabel('Year', color='black')\n",
    "plt.ylabel('Availaible Energy', color='black')  \n",
    "plt.plot(x, y)  \n",
    "plt.show() "
   ]
  },
  {
   "cell_type": "code",
   "execution_count": null,
   "id": "5727c7d9",
   "metadata": {},
   "outputs": [],
   "source": [
    "#y = Net_Rad_2015\n",
    "#x = filtered_df2['DateTime'] \n",
    "#plt.style.use('ggplot')\n",
    "#plt.title('Net Radiation over time', color='black')\n",
    "#plt.xlabel('Year', color='black')\n",
    "#plt.ylabel('Net Radiation', color='black')  \n",
    "#plt.plot(x, y)  \n",
    "#plt.show() "
   ]
  },
  {
   "cell_type": "code",
   "execution_count": null,
   "id": "df831cf4",
   "metadata": {},
   "outputs": [],
   "source": [
    "#y = Relative_Humid_2015\n",
    "#x = filtered_df2['DateTime'] \n",
    "#plt.style.use('ggplot')\n",
    "#plt.title('Relative Humidity over time', color='black')\n",
    "#plt.xlabel('Year', color='black')\n",
    "#plt.ylabel('Reative Humidity', color='black')  \n",
    "#plt.plot(x, y)  \n",
    "#plt.show()"
   ]
  },
  {
   "cell_type": "code",
   "execution_count": null,
   "id": "fa4512ca",
   "metadata": {},
   "outputs": [],
   "source": [
    "#y = Wind_Speed_2015\n",
    "#x = filtered_df2['DateTime'] \n",
    "#plt.style.use('ggplot')\n",
    "#plt.title('Wind Speed over time', color='black')\n",
    "#plt.xlabel('Year', color='black')\n",
    "#plt.ylabel('Wind Speed', color='black')  \n",
    "#plt.plot(x, y)  \n",
    "#plt.show()"
   ]
  },
  {
   "cell_type": "code",
   "execution_count": null,
   "id": "822cc735",
   "metadata": {},
   "outputs": [],
   "source": [
    "#y = Air_Temp_C_2019\n",
    "#x = filtered_df3['DateTime'] \n",
    "#plt.style.use('ggplot')\n",
    "#plt.title('Air Temperature over time', color='black')\n",
    "#plt.xlabel('Year', color='black')\n",
    "#plt.ylabel('Air Temperature', color='black')  \n",
    "#plt.plot(x, y)  \n",
    "#plt.show()"
   ]
  },
  {
   "cell_type": "code",
   "execution_count": null,
   "id": "b4250bae",
   "metadata": {},
   "outputs": [],
   "source": [
    "#y = Net_Rad_2019\n",
    "#x = filtered_df3['DateTime'] \n",
    "#plt.style.use('ggplot')\n",
    "#plt.title('Net Radiation over time', color='black')\n",
    "#plt.xlabel('Year', color='black')\n",
    "#plt.ylabel('Net Radiation', color='black')  \n",
    "#plt.plot(x, y)  \n",
    "#plt.show()"
   ]
  },
  {
   "cell_type": "code",
   "execution_count": null,
   "id": "2abc0f30",
   "metadata": {},
   "outputs": [],
   "source": [
    "#y = Relative_Humid_2019\n",
    "#x = filtered_df3['DateTime'] \n",
    "#plt.style.use('ggplot')\n",
    "#plt.title('Relative Humidity over time', color='black')\n",
    "#plt.xlabel('Year', color='black')\n",
    "#plt.ylabel('Relative Humidity', color='black')  \n",
    "#plt.plot(x, y)  \n",
    "#plt.show()"
   ]
  },
  {
   "cell_type": "code",
   "execution_count": null,
   "id": "a8cc2728",
   "metadata": {},
   "outputs": [],
   "source": [
    "#y = Wind_Speed_2019\n",
    "#x = filtered_df3['DateTime'] \n",
    "#plt.style.use('ggplot')\n",
    "#plt.title('Wind Speed over time', color='black')\n",
    "#plt.xlabel('Year', color='black')\n",
    "#plt.ylabel('Wind Speed', color='black')  \n",
    "#plt.plot(x, y)  \n",
    "#plt.show()"
   ]
  },
  {
   "cell_type": "code",
   "execution_count": null,
   "id": "74bf4c28",
   "metadata": {},
   "outputs": [],
   "source": []
  },
  {
   "cell_type": "code",
   "execution_count": null,
   "id": "4b71a49f",
   "metadata": {},
   "outputs": [],
   "source": []
  }
 ],
 "metadata": {
  "kernelspec": {
   "display_name": "Python 3 (ipykernel)",
   "language": "python",
   "name": "python3"
  },
  "language_info": {
   "codemirror_mode": {
    "name": "ipython",
    "version": 3
   },
   "file_extension": ".py",
   "mimetype": "text/x-python",
   "name": "python",
   "nbconvert_exporter": "python",
   "pygments_lexer": "ipython3",
   "version": "3.9.12"
  }
 },
 "nbformat": 4,
 "nbformat_minor": 5
}
